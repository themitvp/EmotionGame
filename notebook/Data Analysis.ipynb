{
 "cells": [
  {
   "cell_type": "code",
   "execution_count": 1,
   "metadata": {
    "collapsed": false
   },
   "outputs": [],
   "source": [
    "import pandas as pd\n",
    "import numpy as np\n",
    "import glob\n",
    "import os\n",
    "import re\n",
    "import datetime\n",
    "import matplotlib.pyplot as plt\n",
    "from pylab import ylim"
   ]
  },
  {
   "cell_type": "code",
   "execution_count": 34,
   "metadata": {
    "collapsed": false
   },
   "outputs": [],
   "source": [
    "pathMode1First =r'../DataFromExperiment/Mode1First/participant*' # Mode 1 First\n",
    "pathMode2First =r'../DataFromExperiment/Mode2First/participant*' # Mode 2 First\n",
    "\n",
    "all_files1 = glob.glob(os.path.join(pathMode1First, \"*.csv\"))\n",
    "all_files2 = glob.glob(os.path.join(pathMode2First, \"*.csv\"))\n",
    "\n",
    "all_participants1 = {}\n",
    "all_participants2 = {}\n",
    "\n",
    "all_participants1_timePlaying = {}\n",
    "all_participants2_timePlaying = {}\n",
    "\n",
    "all_participants1_dataAnalysis = {}\n",
    "all_participants2_dataAnalysis = {}"
   ]
  },
  {
   "cell_type": "code",
   "execution_count": 35,
   "metadata": {
    "collapsed": false
   },
   "outputs": [],
   "source": [
    "def loadFile(all_files, all_participants):\n",
    "    for f in all_files:\n",
    "        df = pd.read_csv(f, sep=\"\\t\")\n",
    "        df.drop(df.columns[len(df.columns)-1], axis=1, inplace=True)\n",
    "        #df = df.set_index(\"Time\")\n",
    "        participantId = os.path.dirname(f).split('/')[-1]\n",
    "    \n",
    "        if participantId not in all_participants:\n",
    "            all_participants[participantId] = list()\n",
    "\n",
    "        all_participants[participantId].append(df)"
   ]
  },
  {
   "cell_type": "code",
   "execution_count": 36,
   "metadata": {
    "collapsed": false
   },
   "outputs": [],
   "source": [
    "loadFile(all_files1, all_participants1)\n",
    "loadFile(all_files2, all_participants2)"
   ]
  },
  {
   "cell_type": "code",
   "execution_count": 37,
   "metadata": {
    "collapsed": false
   },
   "outputs": [],
   "source": [
    "def timePlayed(participantId, participant, all_participants_timePlaying):\n",
    "    timePlayingMode1 = list()\n",
    "    timePlayingMode2 = list()\n",
    "\n",
    "    for x in participant:\n",
    "        if x['emotionModeActivated'].any():\n",
    "            timePlayingMode2.append(np.max(x['Time']) - np.min(x['Time']))\n",
    "        else:\n",
    "            timePlayingMode1.append(np.max(x['Time']) - np.min(x['Time']))\n",
    "    \n",
    "    all_participants_timePlaying[participantId] = { \n",
    "        'Normal Mode': timePlayingMode1,\n",
    "        'Emotion Mode': timePlayingMode2\n",
    "    }"
   ]
  },
  {
   "cell_type": "code",
   "execution_count": 38,
   "metadata": {
    "collapsed": false
   },
   "outputs": [],
   "source": [
    "for key, value in all_participants1.items():\n",
    "    timePlayed(key, value, all_participants1_timePlaying)"
   ]
  },
  {
   "cell_type": "code",
   "execution_count": 39,
   "metadata": {
    "collapsed": true
   },
   "outputs": [],
   "source": [
    "for key, value in all_participants2.items():\n",
    "    timePlayed(key, value, all_participants2_timePlaying)"
   ]
  },
  {
   "cell_type": "code",
   "execution_count": 40,
   "metadata": {
    "collapsed": false,
    "scrolled": false
   },
   "outputs": [
    {
     "name": "stdout",
     "output_type": "stream",
     "text": [
      "STARTED WITH NORMAL MODE\n",
      "#####  participant1  #####\n",
      "Normal Mode\n",
      "average: 25.591204 seconds\n",
      "max: 68.486422 seconds\n",
      "min: 4.924553 seconds\n",
      "sum: 5.12 min\n",
      "died per sec: 25.591204\n",
      "died: 12\n",
      "\n",
      "\n",
      "Emotion Mode\n",
      "average: 16.134598 seconds\n",
      "max: 43.365922 seconds\n",
      "min: 4.530747 seconds\n",
      "sum: 4.84 min\n",
      "died per sec: 16.134598\n",
      "died: 18\n",
      "\n",
      "\n",
      "#####  participant2  #####\n",
      "Normal Mode\n",
      "average: 34.837714 seconds\n",
      "max: 147.465825 seconds\n",
      "min: 2.562098 seconds\n",
      "sum: 16.26 min\n",
      "died per sec: 34.837714\n",
      "died: 28\n",
      "\n",
      "\n",
      "Emotion Mode\n",
      "average: 48.214224 seconds\n",
      "max: 163.375342 seconds\n",
      "min: 5.131754 seconds\n",
      "sum: 14.46 min\n",
      "died per sec: 48.214224\n",
      "died: 18\n",
      "\n",
      "\n",
      "#####  participant7  #####\n",
      "Normal Mode\n",
      "average: 71.432038 seconds\n",
      "max: 202.647768 seconds\n",
      "min: 5.394646 seconds\n",
      "sum: 11.91 min\n",
      "died per sec: 71.432038\n",
      "died: 10\n",
      "\n",
      "\n",
      "Emotion Mode\n",
      "average: 100.765774 seconds\n",
      "max: 297.763782 seconds\n",
      "min: 6.370687 seconds\n",
      "sum: 13.44 min\n",
      "died per sec: 100.765774\n",
      "died: 8\n",
      "\n",
      "\n",
      "#####  participant6  #####\n",
      "Normal Mode\n",
      "average: 92.929802 seconds\n",
      "max: 242.658428 seconds\n",
      "min: 14.860409 seconds\n",
      "sum: 10.84 min\n",
      "died per sec: 92.929802\n",
      "died: 7\n",
      "\n",
      "\n",
      "Emotion Mode\n",
      "average: 81.977972 seconds\n",
      "max: 227.706683 seconds\n",
      "min: 7.879734 seconds\n",
      "sum: 13.66 min\n",
      "died per sec: 81.977972\n",
      "died: 10\n",
      "\n",
      "\n"
     ]
    }
   ],
   "source": [
    "print \"STARTED WITH NORMAL MODE\"\n",
    "for key, value in all_participants1_timePlaying.items():\n",
    "    print \"##### \", key, \" #####\"\n",
    "    for tKey, tValue in value.items():  \n",
    "        print tKey\n",
    "        print \"average: %f seconds\" % (np.mean(tValue))\n",
    "        print \"max: %f seconds\" % (np.max(tValue))\n",
    "        print \"min: %f seconds\" % (np.min(tValue))\n",
    "        print \"sum: %.2f min\" % (np.sum(tValue)/60)\n",
    "        print \"died per sec: %f\" % (np.sum(tValue)/len(tValue))\n",
    "        print \"died: %d\" % (len(tValue))\n",
    "        print \"\\n\""
   ]
  },
  {
   "cell_type": "code",
   "execution_count": 41,
   "metadata": {
    "collapsed": false
   },
   "outputs": [
    {
     "name": "stdout",
     "output_type": "stream",
     "text": [
      "STARTED WITH EMOTION MODE\n",
      "#####  participant8  #####\n",
      "Normal Mode\n",
      "average: 65.345630 seconds\n",
      "max: 159.752983 seconds\n",
      "min: 9.344158 seconds\n",
      "sum: 392.07 sec\n",
      "died: 6\n",
      "died per sec: 65.345630\n",
      "died per sec (minus max value): 46.464159\n",
      "\n",
      "Emotion Mode\n",
      "average: 118.895970 seconds\n",
      "max: 281.238603 seconds\n",
      "min: 6.832136 seconds\n",
      "sum: 475.58 sec\n",
      "died: 4\n",
      "died per sec: 118.895970\n",
      "died per sec (minus max value): 64.781758\n",
      "\n",
      "#####  participant3  #####\n",
      "Normal Mode\n",
      "average: 26.607738 seconds\n",
      "max: 93.189824 seconds\n",
      "min: 3.718231 seconds\n",
      "sum: 638.59 sec\n",
      "died: 24\n",
      "died per sec: 26.607738\n",
      "died per sec (minus max value): 23.712865\n",
      "\n",
      "Emotion Mode\n",
      "average: 39.134048 seconds\n",
      "max: 107.287883 seconds\n",
      "min: 5.756562 seconds\n",
      "sum: 469.61 sec\n",
      "died: 12\n",
      "died per sec: 39.134048\n",
      "died per sec (minus max value): 32.938245\n",
      "\n",
      "#####  participant5  #####\n",
      "Normal Mode\n",
      "average: 40.020421 seconds\n",
      "max: 147.570380 seconds\n",
      "min: 1.414466 seconds\n",
      "sum: 840.43 sec\n",
      "died: 21\n",
      "died per sec: 40.020421\n",
      "died per sec (minus max value): 34.642923\n",
      "\n",
      "Emotion Mode\n",
      "average: 36.955824 seconds\n",
      "max: 101.722424 seconds\n",
      "min: 4.819206 seconds\n",
      "sum: 739.12 sec\n",
      "died: 20\n",
      "died per sec: 36.955824\n",
      "died per sec (minus max value): 33.547056\n",
      "\n",
      "#####  participant4  #####\n",
      "Normal Mode\n",
      "average: 16.118558 seconds\n",
      "max: 67.891291 seconds\n",
      "min: 2.588810 seconds\n",
      "sum: 660.86 sec\n",
      "died: 41\n",
      "died per sec: 16.118558\n",
      "died per sec (minus max value): 14.824240\n",
      "\n",
      "Emotion Mode\n",
      "average: 18.933248 seconds\n",
      "max: 105.285452 seconds\n",
      "min: 1.199357 seconds\n",
      "sum: 397.60 sec\n",
      "died: 21\n",
      "died per sec: 18.933248\n",
      "died per sec (minus max value): 14.615638\n",
      "\n"
     ]
    }
   ],
   "source": [
    "print \"STARTED WITH EMOTION MODE\"\n",
    "for key, value in all_participants2_timePlaying.items():\n",
    "    print \"##### \", key, \" #####\"\n",
    "    for tKey, tValue in value.items():   \n",
    "        print tKey\n",
    "        print \"average: %f seconds\" % (np.mean(tValue))\n",
    "        print \"max: %f seconds\" % (np.max(tValue))\n",
    "        print \"min: %f seconds\" % (np.min(tValue))\n",
    "        print \"sum: %.2f sec\" % (np.sum(tValue))\n",
    "        print \"died: %d\" % (len(tValue))\n",
    "        print \"died per sec: %f\" % (np.sum(tValue)/len(tValue))\n",
    "        print \"died per sec (minus max value): %f\\n\" % ((np.sum(tValue)-np.max(tValue))/(len(tValue)-1))"
   ]
  },
  {
   "cell_type": "code",
   "execution_count": 42,
   "metadata": {
    "collapsed": false
   },
   "outputs": [],
   "source": [
    "combined_timePlaying = {}\n",
    "\n",
    "for key, value in all_participants1_timePlaying.items():\n",
    "    for tKey, tValue in value.items():\n",
    "        if tKey not in combined_timePlaying:\n",
    "            combined_timePlaying[tKey] = {\n",
    "                \"timePlaying\": list(),\n",
    "                \"sumTimePlaying\": list(),\n",
    "                \"died\": list()\n",
    "            }\n",
    "\n",
    "        combined_timePlaying[tKey]['timePlaying'] += tValue\n",
    "        combined_timePlaying[tKey]['sumTimePlaying'].append(np.sum(tValue))\n",
    "        combined_timePlaying[tKey]['died'].append(len(tValue))"
   ]
  },
  {
   "cell_type": "code",
   "execution_count": 43,
   "metadata": {
    "collapsed": true
   },
   "outputs": [],
   "source": [
    "for key, value in all_participants2_timePlaying.items():\n",
    "    for tKey, tValue in value.items():\n",
    "        combined_timePlaying[tKey]['timePlaying'] += tValue\n",
    "        combined_timePlaying[tKey]['sumTimePlaying'].append(np.sum(tValue))\n",
    "        combined_timePlaying[tKey]['died'].append(len(tValue))"
   ]
  },
  {
   "cell_type": "code",
   "execution_count": 69,
   "metadata": {
    "collapsed": false
   },
   "outputs": [
    {
     "name": "stdout",
     "output_type": "stream",
     "text": [
      "COMBINED FOR ALL PARTICIPANTS\n",
      "Normal Mode\n",
      "average: 34.760595 seconds\n",
      "max: 242.658428 seconds\n",
      "min: 1.414466 seconds\n",
      "average sum: 647.416084\n",
      "total sum: 5179.328674 \n",
      "average died: 18\n",
      "307.094451\n",
      "\n",
      "\n",
      "Emotion Mode\n",
      "average: 43.838665 seconds\n",
      "max: 297.763782 seconds\n",
      "min: 1.199357 seconds\n",
      "average sum: 608.261481\n",
      "total sum: 4866.091845 \n",
      "average died: 13\n",
      "290.422759\n",
      "\n",
      "\n"
     ]
    }
   ],
   "source": [
    "print \"COMBINED FOR ALL PARTICIPANTS\"\n",
    "for key, value in combined_timePlaying.items():\n",
    "    print key\n",
    "    print \"average: %f seconds\" % (np.mean(value['timePlaying']))\n",
    "    print \"max: %f seconds\" % (np.max(value['timePlaying']))\n",
    "    print \"min: %f seconds\" % (np.min(value['timePlaying']))\n",
    "    print \"average sum: %f\" % (np.mean(value['sumTimePlaying']))\n",
    "    print \"total sum: %f \" % (np.sum(value['timePlaying']))\n",
    "    print \"average died: %d\" % (np.mean(value['died']))\n",
    "    print np.min(value['sumTimePlaying'])\n",
    "    print \"\\n\""
   ]
  },
  {
   "cell_type": "code",
   "execution_count": 45,
   "metadata": {
    "collapsed": true
   },
   "outputs": [],
   "source": [
    "def gatherData(participantId, participant, all_participants_dataAnalysis):\n",
    "    listMode1 = {\n",
    "        \"valence\": {\n",
    "            \"allValence\": list(),\n",
    "            \"max\": list(),\n",
    "            \"min\": list(),\n",
    "            \"average\": list()\n",
    "        },\n",
    "        \"game\": {\n",
    "            \"allLevel\": list(),\n",
    "            \"level\": list(),\n",
    "            \"levelCount\": list(),\n",
    "            \"hazardCount\": list(),\n",
    "            \"highscore\": list()\n",
    "        }\n",
    "    }\n",
    "    listMode2 = {\n",
    "        \"valence\": {\n",
    "            \"allValence\": list(),\n",
    "            \"max\": list(),\n",
    "            \"min\": list(),\n",
    "            \"average\": list()\n",
    "        },\n",
    "        \"game\": {\n",
    "            \"allLevel\": list(),\n",
    "            \"level\": list(),\n",
    "            \"levelCount\": list(),\n",
    "            \"hazardCount\": list(),\n",
    "            \"highscore\": list()\n",
    "        }\n",
    "    }\n",
    "\n",
    "    for x in participant:\n",
    "        if x['emotionModeActivated'].any():\n",
    "            \n",
    "            valenceList = []\n",
    "            for inIndex, inVal in enumerate(x['Attention']):\n",
    "                if inVal > 70:        \n",
    "                    valenceList.append(x['Valence'][inIndex])\n",
    "            \n",
    "            listMode2['valence']['allValence'].append( valenceList )\n",
    "            listMode2['valence']['average'].append( np.mean(valenceList) )\n",
    "            listMode2['valence']['min'].append( np.min(valenceList) )\n",
    "            listMode2['valence']['max'].append( np.max(valenceList) )\n",
    "            listMode2['game']['allLevel'].append( x['level'] )\n",
    "            listMode2['game']['level'].append( np.max(x['level']) )\n",
    "            listMode2['game']['levelCount'].append( np.max(x['level']) - np.min(x['level']) )\n",
    "            listMode2['game']['hazardCount'].append( np.max(x['hazardCount']) )\n",
    "            listMode2['game']['highscore'].append( np.max(x['score']) )\n",
    "        else:\n",
    "            valenceList = []\n",
    "            for inIndex, inVal in enumerate(x['Attention']):\n",
    "                if inVal > 70:        \n",
    "                    valenceList.append(x['Valence'][inIndex])\n",
    "            listMode1['valence']['allValence'].append( valenceList )\n",
    "            listMode1['valence']['average'].append( np.mean(valenceList) )\n",
    "            listMode1['valence']['min'].append( np.min(valenceList) )\n",
    "            listMode1['valence']['max'].append( np.max(valenceList) )\n",
    "            listMode1['game']['allLevel'].append( x['level'] )\n",
    "            listMode1['game']['level'].append( np.max(x['level']) )\n",
    "            listMode1['game']['levelCount'].append( np.max(x['level']) - np.min(x['level']) )\n",
    "            listMode1['game']['hazardCount'].append( np.max(x['hazardCount']) )\n",
    "            listMode1['game']['highscore'].append( np.max(x['score']) )\n",
    "    \n",
    "    all_participants_dataAnalysis[participantId] = { \n",
    "        'Normal Mode': listMode1,\n",
    "        'Emotion Mode': listMode2\n",
    "    }"
   ]
  },
  {
   "cell_type": "code",
   "execution_count": 46,
   "metadata": {
    "collapsed": false
   },
   "outputs": [],
   "source": [
    "for key, value in all_participants1.items():\n",
    "    gatherData(key, value, all_participants1_dataAnalysis)"
   ]
  },
  {
   "cell_type": "code",
   "execution_count": 47,
   "metadata": {
    "collapsed": false
   },
   "outputs": [],
   "source": [
    "for key, value in all_participants2.items():\n",
    "    gatherData(key, value, all_participants2_dataAnalysis)"
   ]
  },
  {
   "cell_type": "code",
   "execution_count": 48,
   "metadata": {
    "collapsed": false
   },
   "outputs": [
    {
     "name": "stdout",
     "output_type": "stream",
     "text": [
      "STARTED WITH NORMAL MODE\n",
      "#####  participant1  #####\n",
      "- Normal Mode -\n",
      "-- Valence\n",
      "---- average: 1.531117\n",
      "---- STD: 3.429442\n",
      "---- max: 99.622000\n",
      "---- min: -6.369000\n",
      "-- Game\n",
      "---- level: 5\n",
      "---- level count: 3\n",
      "---- hazardCount: 30\n",
      "---- highscore: 320\n",
      "\n",
      "\n",
      "- Emotion Mode -\n",
      "-- Valence\n",
      "---- average: -0.003587\n",
      "---- STD: 0.177302\n",
      "---- max: 59.737000\n",
      "---- min: -10.524000\n",
      "-- Game\n",
      "---- level: 6\n",
      "---- level count: 2\n",
      "---- hazardCount: 35\n",
      "---- highscore: 210\n",
      "\n",
      "\n",
      "Guess: Normal Mode (valence 1.531117)\n",
      "\n",
      "\n",
      "#####  participant2  #####\n",
      "- Normal Mode -\n",
      "-- Valence\n",
      "---- average: -7.891570\n",
      "---- STD: 6.800069\n",
      "---- max: 0.000000\n",
      "---- min: -97.025000\n",
      "-- Game\n",
      "---- level: 8\n",
      "---- level count: 4\n",
      "---- hazardCount: 45\n",
      "---- highscore: 1620\n",
      "\n",
      "\n",
      "- Emotion Mode -\n",
      "-- Valence\n",
      "---- average: -11.960765\n",
      "---- STD: 14.908855\n",
      "---- max: 0.055000\n",
      "---- min: -99.997000\n",
      "-- Game\n",
      "---- level: 14\n",
      "---- level count: 5\n",
      "---- hazardCount: 75\n",
      "---- highscore: 2390\n",
      "\n",
      "\n",
      "Guess: Normal Mode (valence -7.891570)\n",
      "\n",
      "\n",
      "#####  participant7  #####\n",
      "- Normal Mode -\n",
      "-- Valence\n",
      "---- average: -0.736820\n",
      "---- STD: 0.964505\n",
      "---- max: 98.091000\n",
      "---- min: -34.342000\n",
      "-- Game\n",
      "---- level: 12\n",
      "---- level count: 6\n",
      "---- hazardCount: 65\n",
      "---- highscore: 2750\n",
      "\n",
      "\n",
      "- Emotion Mode -\n",
      "-- Valence\n",
      "---- average: -3.728489\n",
      "---- STD: 6.558041\n",
      "---- max: 97.384000\n",
      "---- min: -96.688000\n",
      "-- Game\n",
      "---- level: 17\n",
      "---- level count: 8\n",
      "---- hazardCount: 90\n",
      "---- highscore: 4340\n",
      "\n",
      "\n",
      "Guess: Normal Mode (valence -0.736820)\n",
      "\n",
      "\n",
      "#####  participant6  #####\n",
      "- Normal Mode -\n",
      "-- Valence\n",
      "---- average: -0.526540\n",
      "---- STD: 0.475050\n",
      "---- max: 0.000000\n",
      "---- min: -74.392000\n",
      "-- Game\n",
      "---- level: 13\n",
      "---- level count: 7\n",
      "---- hazardCount: 70\n",
      "---- highscore: 2670\n",
      "\n",
      "\n",
      "- Emotion Mode -\n",
      "-- Valence\n",
      "---- average: -0.758006\n",
      "---- STD: 1.937503\n",
      "---- max: 99.706000\n",
      "---- min: -99.897000\n",
      "-- Game\n",
      "---- level: 18\n",
      "---- level count: 7\n",
      "---- hazardCount: 95\n",
      "---- highscore: 2980\n",
      "\n",
      "\n",
      "Guess: Normal Mode (valence -0.526540)\n",
      "\n",
      "\n"
     ]
    }
   ],
   "source": [
    "print \"STARTED WITH NORMAL MODE\"\n",
    "for key, value in all_participants1_dataAnalysis.items():\n",
    "    guestMostLikedGame = {\n",
    "        'game': \"\",\n",
    "        'valence': None\n",
    "    }\n",
    "    print \"##### \", key, \" #####\"\n",
    "    for tKey, tValue in value.items():\n",
    "        if guestMostLikedGame['valence'] == None or guestMostLikedGame['valence'] < np.mean(tValue['valence']['average']):\n",
    "            guestMostLikedGame['valence'] = np.mean(tValue['valence']['average'])\n",
    "            guestMostLikedGame['game'] = tKey \n",
    "        print \"-\", tKey, \"-\"\n",
    "        print \"-- Valence\"\n",
    "        print \"---- average: %f\" % (np.mean(tValue['valence']['average']))\n",
    "        print \"---- STD: %f\" % (np.std(tValue['valence']['average']))\n",
    "        print \"---- max: %f\" % (np.max(tValue['valence']['max']))\n",
    "        print \"---- min: %f\" % (np.min(tValue['valence']['min']))\n",
    "        print \"-- Game\"\n",
    "        print \"---- level: %d\" % (np.max(tValue['game']['level']))\n",
    "        print \"---- level count: %d\" % (np.max(tValue['game']['levelCount']))\n",
    "        print \"---- hazardCount: %d\" % (np.max(tValue['game']['hazardCount']))\n",
    "        print \"---- highscore: %d\" % (np.max(tValue['game']['highscore']))\n",
    "        print \"\\n\"\n",
    "        \n",
    "    print \"Guess: %s (valence %f)\\n\\n\" % (guestMostLikedGame['game'], guestMostLikedGame['valence'])"
   ]
  },
  {
   "cell_type": "code",
   "execution_count": 49,
   "metadata": {
    "collapsed": false,
    "scrolled": false
   },
   "outputs": [
    {
     "name": "stdout",
     "output_type": "stream",
     "text": [
      "STARTED WITH EMOTION MODE\n",
      "#####  participant8  #####\n",
      "- Normal Mode -\n",
      "-- Valence\n",
      "---- average: -3.377783\n",
      "---- STD: 2.570786\n",
      "---- max: 19.325000\n",
      "---- min: -98.495000\n",
      "-- Game\n",
      "---- level: 10\n",
      "---- levels played in total: 6\n",
      "---- level count: 5\n",
      "---- hazardCount: 55\n",
      "---- highscore: 2180\n",
      "\n",
      "\n",
      "- Emotion Mode -\n",
      "-- Valence\n",
      "---- average: -2.095259\n",
      "---- STD: 1.637852\n",
      "---- max: 99.255000\n",
      "---- min: -99.996000\n",
      "-- Game\n",
      "---- level: 14\n",
      "---- levels played in total: 4\n",
      "---- level count: 10\n",
      "---- hazardCount: 75\n",
      "---- highscore: 3670\n",
      "\n",
      "\n",
      "Guess: Emotion Mode (valence -2.095259)\n",
      "\n",
      "\n",
      "#####  participant3  #####\n",
      "- Normal Mode -\n",
      "-- Valence\n",
      "---- average: 0.059973\n",
      "---- STD: 0.564925\n",
      "---- max: 99.856000\n",
      "---- min: -15.847000\n",
      "-- Game\n",
      "---- level: 6\n",
      "---- levels played in total: 24\n",
      "---- level count: 4\n",
      "---- hazardCount: 35\n",
      "---- highscore: 1120\n",
      "\n",
      "\n",
      "- Emotion Mode -\n",
      "-- Valence\n",
      "---- average: 0.563675\n",
      "---- STD: 1.580798\n",
      "---- max: 99.767000\n",
      "---- min: -31.059000\n",
      "-- Game\n",
      "---- level: 13\n",
      "---- levels played in total: 12\n",
      "---- level count: 3\n",
      "---- hazardCount: 70\n",
      "---- highscore: 1380\n",
      "\n",
      "\n",
      "Guess: Emotion Mode (valence 0.563675)\n",
      "\n",
      "\n",
      "#####  participant5  #####\n",
      "- Normal Mode -\n",
      "-- Valence\n",
      "---- average: -7.842132\n",
      "---- STD: 17.021524\n",
      "---- max: 0.000000\n",
      "---- min: -99.977000\n",
      "-- Game\n",
      "---- level: 9\n",
      "---- levels played in total: 21\n",
      "---- level count: 5\n",
      "---- hazardCount: 50\n",
      "---- highscore: 1910\n",
      "\n",
      "\n",
      "- Emotion Mode -\n",
      "-- Valence\n",
      "---- average: -0.567973\n",
      "---- STD: 1.023189\n",
      "---- max: 0.000000\n",
      "---- min: -99.646000\n",
      "-- Game\n",
      "---- level: 14\n",
      "---- levels played in total: 20\n",
      "---- level count: 3\n",
      "---- hazardCount: 75\n",
      "---- highscore: 1410\n",
      "\n",
      "\n",
      "Guess: Emotion Mode (valence -0.567973)\n",
      "\n",
      "\n",
      "#####  participant4  #####\n",
      "- Normal Mode -\n",
      "-- Valence\n",
      "---- average: -0.023514\n",
      "---- STD: 2.579055\n",
      "---- max: 99.944000\n",
      "---- min: -99.705000\n",
      "-- Game\n",
      "---- level: 4\n",
      "---- levels played in total: 41\n",
      "---- level count: 3\n",
      "---- hazardCount: 25\n",
      "---- highscore: 620\n",
      "\n",
      "\n",
      "- Emotion Mode -\n",
      "-- Valence\n",
      "---- average: 1.174218\n",
      "---- STD: 3.866885\n",
      "---- max: 99.984000\n",
      "---- min: -99.545000\n",
      "-- Game\n",
      "---- level: 6\n",
      "---- levels played in total: 21\n",
      "---- level count: 2\n",
      "---- hazardCount: 35\n",
      "---- highscore: 1270\n",
      "\n",
      "\n",
      "Guess: Emotion Mode (valence 1.174218)\n",
      "\n",
      "\n"
     ]
    }
   ],
   "source": [
    "print \"STARTED WITH EMOTION MODE\"\n",
    "for key, value in all_participants2_dataAnalysis.items():\n",
    "    guestMostLikedGame = {\n",
    "        'game': \"\",\n",
    "        'valence': None\n",
    "    }\n",
    "    print \"##### \", key, \" #####\"\n",
    "    for tKey, tValue in value.items():\n",
    "        if guestMostLikedGame['valence'] == None or guestMostLikedGame['valence'] < np.mean(tValue['valence']['average']):\n",
    "            guestMostLikedGame['valence'] = np.mean(tValue['valence']['average'])\n",
    "            guestMostLikedGame['game'] = tKey \n",
    "        print \"-\", tKey, \"-\"\n",
    "        print \"-- Valence\"\n",
    "        print \"---- average: %f\" % (np.mean(tValue['valence']['average']))\n",
    "        print \"---- STD: %f\" % (np.std(tValue['valence']['average']))\n",
    "        print \"---- max: %f\" % (np.max(tValue['valence']['max']))\n",
    "        print \"---- min: %f\" % (np.min(tValue['valence']['min']))\n",
    "        print \"-- Game\"\n",
    "        print \"---- level: %d\" % (np.max(tValue['game']['level']))\n",
    "        print \"---- levels played in total: %d\" % (len(tValue['game']['allLevel']))\n",
    "        print \"---- level count: %d\" % (np.max(tValue['game']['levelCount']))\n",
    "        print \"---- hazardCount: %d\" % (np.max(tValue['game']['hazardCount']))\n",
    "        print \"---- highscore: %d\" % (np.max(tValue['game']['highscore']))\n",
    "        print \"\\n\"\n",
    "    print \"Guess: %s (valence %f)\\n\\n\" % (guestMostLikedGame['game'], guestMostLikedGame['valence'])"
   ]
  },
  {
   "cell_type": "code",
   "execution_count": 50,
   "metadata": {
    "collapsed": true
   },
   "outputs": [],
   "source": [
    "combined_dataAnalysis = {}\n",
    "\n",
    "for key, value in all_participants1_dataAnalysis.items():\n",
    "    for tKey, tValue in value.items():\n",
    "        if tKey not in combined_dataAnalysis:\n",
    "            combined_dataAnalysis[tKey] = {\n",
    "                \"allAttention\": list(),\n",
    "                \"valence\": {\n",
    "                    \"allValence\": list(),\n",
    "                    \"max\": list(),\n",
    "                    \"min\": list(),\n",
    "                    \"average\": list()\n",
    "                },\n",
    "                \"game\": {\n",
    "                    \"level\": list(),\n",
    "                    \"levelCount\": list(),\n",
    "                    \"hazardCount\": list(),\n",
    "                    \"highscore\": list()\n",
    "                }\n",
    "            }\n",
    "\n",
    "        combined_dataAnalysis[tKey]['valence']['allValence'] += tValue['valence']['allValence']\n",
    "        combined_dataAnalysis[tKey]['valence']['average'] += tValue['valence']['average']\n",
    "        combined_dataAnalysis[tKey]['valence']['min'] += tValue['valence']['min']\n",
    "        combined_dataAnalysis[tKey]['valence']['max'] += tValue['valence']['max']\n",
    "        combined_dataAnalysis[tKey]['game']['level'] += tValue['game']['level']\n",
    "        combined_dataAnalysis[tKey]['game']['levelCount'] += tValue['game']['levelCount']\n",
    "        combined_dataAnalysis[tKey]['game']['hazardCount'] += tValue['game']['hazardCount']\n",
    "        combined_dataAnalysis[tKey]['game']['highscore'] += tValue['game']['highscore']"
   ]
  },
  {
   "cell_type": "code",
   "execution_count": 51,
   "metadata": {
    "collapsed": true
   },
   "outputs": [],
   "source": [
    "for key, value in all_participants2_dataAnalysis.items():\n",
    "    for tKey, tValue in value.items():\n",
    "        combined_dataAnalysis[tKey]['valence']['allValence'] += tValue['valence']['allValence']\n",
    "        combined_dataAnalysis[tKey]['valence']['average'] += tValue['valence']['average']\n",
    "        combined_dataAnalysis[tKey]['valence']['min'] += tValue['valence']['min']\n",
    "        combined_dataAnalysis[tKey]['valence']['max'] += tValue['valence']['max']\n",
    "        combined_dataAnalysis[tKey]['game']['level'] += tValue['game']['level']\n",
    "        combined_dataAnalysis[tKey]['game']['levelCount'] += tValue['game']['levelCount']\n",
    "        combined_dataAnalysis[tKey]['game']['hazardCount'] += tValue['game']['hazardCount']\n",
    "        combined_dataAnalysis[tKey]['game']['highscore'] += tValue['game']['highscore']"
   ]
  },
  {
   "cell_type": "code",
   "execution_count": 52,
   "metadata": {
    "collapsed": false
   },
   "outputs": [
    {
     "name": "stdout",
     "output_type": "stream",
     "text": [
      "COMBINED FOR ALL PARTICIPANTS DATA ANALYSIS\n",
      "#####  Normal Mode  #####\n",
      "-- Valence\n",
      "---- average: -2.671951\n",
      "---- STD: 8.162241\n",
      "---- max: 99.944000\n",
      "---- min: -99.977000\n",
      "-- Game\n",
      "---- level: 13\n",
      "---- level count: 7\n",
      "---- hazardCount: 70\n",
      "---- highscore: 2750\n",
      "\n",
      "\n",
      "#####  Emotion Mode  #####\n",
      "-- Valence\n",
      "---- average: -2.171929\n",
      "---- STD: 7.932124\n",
      "---- max: 99.984000\n",
      "---- min: -99.997000\n",
      "-- Game\n",
      "---- level: 18\n",
      "---- level count: 10\n",
      "---- hazardCount: 95\n",
      "---- highscore: 4340\n",
      "\n",
      "\n"
     ]
    }
   ],
   "source": [
    "print \"COMBINED FOR ALL PARTICIPANTS DATA ANALYSIS\"\n",
    "for key, value in combined_dataAnalysis.items():\n",
    "    print \"##### \", key, \" #####\"\n",
    "    print \"-- Valence\"\n",
    "    print \"---- average: %f\" % (np.mean(value['valence']['average']))\n",
    "    print \"---- STD: %f\" % (np.std(value['valence']['average']))\n",
    "    print \"---- max: %f\" % (np.max(value['valence']['max']))\n",
    "    print \"---- min: %f\" % (np.min(value['valence']['min']))\n",
    "    print \"-- Game\"\n",
    "    print \"---- level: %d\" % (np.max(value['game']['level']))\n",
    "    print \"---- level count: %d\" % (np.max(value['game']['levelCount']))\n",
    "    print \"---- hazardCount: %d\" % (np.max(value['game']['hazardCount']))\n",
    "    print \"---- highscore: %d\" % (np.max(value['game']['highscore']))\n",
    "    print \"\\n\""
   ]
  },
  {
   "cell_type": "code",
   "execution_count": 53,
   "metadata": {
    "collapsed": false
   },
   "outputs": [
    {
     "data": {
      "image/png": "[encoded data removed]",
      "text/plain": [
       "<matplotlib.figure.Figure at 0x119ae5390>"
      ]
     },
     "metadata": {},
     "output_type": "display_data"
    }
   ],
   "source": [
    "data1 = np.array(combined_dataAnalysis['Emotion Mode']['valence']['average'])\n",
    "data2 = np.array(combined_dataAnalysis['Normal Mode']['valence']['average'])\n",
    "data = [data1, data2]\n",
    "plt.boxplot(data, 0, '')\n",
    "plt.xticks([1, 2], ['Emotion Mode', 'Normal Mode'])\n",
    "plt.title('Average Valence Combined')  # plot title\n",
    "plt.grid(axis='y',          # set y-axis grid lines\n",
    "        linestyle='--',     # use dashed lines\n",
    "        which='major',      # only major ticks\n",
    "        color='lightgrey',  # line colour\n",
    "        alpha=0.7)          # make lines semi-translucent\n",
    "plt.ylabel(\"Activation\")\n",
    "plt.show()"
   ]
  },
  {
   "cell_type": "code",
   "execution_count": 54,
   "metadata": {
    "collapsed": true
   },
   "outputs": [],
   "source": [
    "participantBoxEmotion = []\n",
    "participantBoxNormal = []\n",
    "\n",
    "for key, value in all_participants1_dataAnalysis.items():\n",
    "    for tKey, tValue in value.items():\n",
    "        if tKey == \"Emotion Mode\":\n",
    "            participantBoxEmotion.append(tValue['valence']['average'])\n",
    "        else:\n",
    "            participantBoxNormal.append(tValue['valence']['average'])\n",
    "\n",
    "for key, value in all_participants2_dataAnalysis.items():\n",
    "    for tKey, tValue in value.items():\n",
    "        if tKey == \"Emotion Mode\":\n",
    "            participantBoxEmotion.append(tValue['valence']['average'])\n",
    "        else:\n",
    "            participantBoxNormal.append(tValue['valence']['average'])"
   ]
  },
  {
   "cell_type": "code",
   "execution_count": 55,
   "metadata": {
    "collapsed": false
   },
   "outputs": [
    {
     "data": {
      "image/png": "[encoded data removed]",
      "text/plain": [
       "<matplotlib.figure.Figure at 0x113f40490>"
      ]
     },
     "metadata": {},
     "output_type": "display_data"
    }
   ],
   "source": [
    "plt.boxplot(participantBoxEmotion, 0)\n",
    "plt.title('Average Valence For Each Participant (Emotion Mode)')  # plot title\n",
    "plt.grid(axis='y',          # set y-axis grid lines\n",
    "        linestyle='--',     # use dashed lines\n",
    "        which='major',      # only major ticks\n",
    "        color='lightgrey',  # line colour\n",
    "        alpha=0.7)          # make lines semi-translucent\n",
    "plt.ylabel(\"Activation\")\n",
    "plt.xlabel(\"Participant IDs\")\n",
    "plt.show()"
   ]
  },
  {
   "cell_type": "code",
   "execution_count": 56,
   "metadata": {
    "collapsed": false
   },
   "outputs": [
    {
     "data": {
      "image/png": "[encoded data removed]",
      "text/plain": [
       "<matplotlib.figure.Figure at 0x1199fcb50>"
      ]
     },
     "metadata": {},
     "output_type": "display_data"
    }
   ],
   "source": [
    "plt.boxplot(participantBoxEmotion, 0, \"\")\n",
    "plt.title('Average Valence For Each Participant (Emotion Mode) - Zoomed')  # plot title\n",
    "plt.grid(axis='y',          # set y-axis grid lines\n",
    "        linestyle='--',     # use dashed lines\n",
    "        which='major',      # only major ticks\n",
    "        color='lightgrey',  # line colour\n",
    "        alpha=0.7)          # make lines semi-translucent\n",
    "plt.ylabel(\"Activation\")\n",
    "plt.xlabel(\"Participant IDs\")\n",
    "plt.ylim(-22,2)\n",
    "plt.show()"
   ]
  },
  {
   "cell_type": "code",
   "execution_count": 57,
   "metadata": {
    "collapsed": false
   },
   "outputs": [
    {
     "data": {
      "image/png": "[encoded data removed]",
      "text/plain": [
       "<matplotlib.figure.Figure at 0x1146b0790>"
      ]
     },
     "metadata": {},
     "output_type": "display_data"
    }
   ],
   "source": [
    "plt.boxplot(participantBoxNormal, 0)\n",
    "plt.title('Average Valence For Each Participant (Normal Mode)')  # plot title\n",
    "plt.grid(axis='y',          # set y-axis grid lines\n",
    "        linestyle='--',     # use dashed lines\n",
    "        which='major',      # only major ticks\n",
    "        color='lightgrey',  # line colour\n",
    "        alpha=0.7)          # make lines semi-translucent\n",
    "plt.ylabel(\"Activation\")\n",
    "plt.xlabel(\"Participant IDs\")\n",
    "plt.show()"
   ]
  },
  {
   "cell_type": "code",
   "execution_count": 58,
   "metadata": {
    "collapsed": false
   },
   "outputs": [
    {
     "data": {
      "image/png": "[encoded data removed]",
      "text/plain": [
       "<matplotlib.figure.Figure at 0x115ee6dd0>"
      ]
     },
     "metadata": {},
     "output_type": "display_data"
    }
   ],
   "source": [
    "plt.boxplot(participantBoxNormal, 0, \"\")\n",
    "plt.title('Average Valence For Each Participant (Normal Mode) - Zoomed')  # plot title\n",
    "plt.grid(axis='y',          # set y-axis grid lines\n",
    "        linestyle='--',     # use dashed lines\n",
    "        which='major',      # only major ticks\n",
    "        color='lightgrey',  # line colour\n",
    "        alpha=0.7)          # make lines semi-translucent\n",
    "plt.ylabel(\"Activation\")\n",
    "plt.xlabel(\"Participant IDs\")\n",
    "plt.ylim(-12,1)\n",
    "plt.show()"
   ]
  },
  {
   "cell_type": "code",
   "execution_count": 59,
   "metadata": {
    "collapsed": false
   },
   "outputs": [],
   "source": [
    "allLevelDown1 = {}\n",
    "for participantId, participant in all_participants1_dataAnalysis.items():\n",
    "    allLevelDown1[participantId] = {\n",
    "        'levelDownNormal': 0,\n",
    "        'levelDownEmotion': 0\n",
    "    }\n",
    "    \n",
    "    LevelDown = 0\n",
    "    for allLvl in participant['Normal Mode']['game']['allLevel']:\n",
    "        lastLevel = None\n",
    "        for lvl in allLvl:\n",
    "            if lastLevel == None:\n",
    "                lastLevel = lvl\n",
    "\n",
    "            if lvl < lastLevel:\n",
    "                LevelDown += 1\n",
    "\n",
    "            lastLevel = lvl   \n",
    "    allLevelDown1[participantId]['levelDownNormal'] = LevelDown\n",
    "    \n",
    "    LevelDown = 0\n",
    "    for allLvl in participant['Emotion Mode']['game']['allLevel']:\n",
    "        lastLevel = None\n",
    "        for lvl in allLvl:\n",
    "            if lastLevel == None:\n",
    "                lastLevel = lvl\n",
    "\n",
    "            if lvl < lastLevel:\n",
    "                LevelDown += 1\n",
    "\n",
    "            lastLevel = lvl    \n",
    "    allLevelDown1[participantId]['levelDownEmotion'] = LevelDown"
   ]
  },
  {
   "cell_type": "code",
   "execution_count": 60,
   "metadata": {
    "collapsed": true
   },
   "outputs": [],
   "source": [
    "allLevelDown2 = {}\n",
    "for participantId, participant in all_participants2_dataAnalysis.items():\n",
    "    allLevelDown2[participantId] = {\n",
    "        'levelDownNormal': 0,\n",
    "        'levelDownEmotion': 0\n",
    "    }\n",
    "    \n",
    "    LevelDown = 0\n",
    "    for allLvl in participant['Normal Mode']['game']['allLevel']:\n",
    "        lastLevel = None\n",
    "        for lvl in allLvl:\n",
    "            if lastLevel == None:\n",
    "                lastLevel = lvl\n",
    "\n",
    "            if lvl < lastLevel:\n",
    "                LevelDown += 1\n",
    "\n",
    "            lastLevel = lvl   \n",
    "    allLevelDown2[participantId]['levelDownNormal'] = LevelDown\n",
    "    \n",
    "    LevelDown = 0\n",
    "    for allLvl in participant['Emotion Mode']['game']['allLevel']:\n",
    "        lastLevel = None\n",
    "        for lvl in allLvl:\n",
    "            if lastLevel == None:\n",
    "                lastLevel = lvl\n",
    "\n",
    "            if lvl < lastLevel:\n",
    "                LevelDown += 1\n",
    "\n",
    "            lastLevel = lvl    \n",
    "    allLevelDown2[participantId]['levelDownEmotion'] = LevelDown"
   ]
  },
  {
   "cell_type": "code",
   "execution_count": 61,
   "metadata": {
    "collapsed": false
   },
   "outputs": [
    {
     "data": {
      "text/plain": [
       "{'participant1': {'levelDownEmotion': 0, 'levelDownNormal': 7},\n",
       " 'participant2': {'levelDownEmotion': 3, 'levelDownNormal': 27},\n",
       " 'participant6': {'levelDownEmotion': 0, 'levelDownNormal': 5},\n",
       " 'participant7': {'levelDownEmotion': 1, 'levelDownNormal': 9}}"
      ]
     },
     "execution_count": 61,
     "metadata": {},
     "output_type": "execute_result"
    }
   ],
   "source": [
    "allLevelDown1"
   ]
  },
  {
   "cell_type": "code",
   "execution_count": 62,
   "metadata": {
    "collapsed": false
   },
   "outputs": [
    {
     "data": {
      "text/plain": [
       "{'participant3': {'levelDownEmotion': 0, 'levelDownNormal': 22},\n",
       " 'participant4': {'levelDownEmotion': 1, 'levelDownNormal': 15},\n",
       " 'participant5': {'levelDownEmotion': 0, 'levelDownNormal': 18},\n",
       " 'participant8': {'levelDownEmotion': 0, 'levelDownNormal': 4}}"
      ]
     },
     "execution_count": 62,
     "metadata": {},
     "output_type": "execute_result"
    }
   ],
   "source": [
    "allLevelDown2"
   ]
  },
  {
   "cell_type": "code",
   "execution_count": 66,
   "metadata": {
    "collapsed": false
   },
   "outputs": [
    {
     "data": {
      "image/png": "[encoded data removed]",
      "text/plain": [
       "<matplotlib.figure.Figure at 0x1143a6f10>"
      ]
     },
     "metadata": {},
     "output_type": "display_data"
    }
   ],
   "source": [
    "data1 = np.concatenate(combined_dataAnalysis['Emotion Mode']['valence']['allValence'])\n",
    "data2 = np.concatenate(combined_dataAnalysis['Normal Mode']['valence']['allValence'])\n",
    "data = [data1, data2]\n",
    "plt.boxplot(data, 0, 'x')\n",
    "plt.xticks([1, 2], ['Emotion Mode', 'Normal Mode'])\n",
    "plt.title('Average Valence Combined')  # plot title\n",
    "plt.grid(axis='y',          # set y-axis grid lines\n",
    "        linestyle='--',     # use dashed lines\n",
    "        which='major',      # only major ticks\n",
    "        color='lightgrey',  # line colour\n",
    "        alpha=0.7)          # make lines semi-translucent\n",
    "plt.ylabel(\"Activation\")\n",
    "plt.show()"
   ]
  },
  {
   "cell_type": "code",
   "execution_count": 67,
   "metadata": {
    "collapsed": false
   },
   "outputs": [
    {
     "name": "stdout",
     "output_type": "stream",
     "text": [
      "-1.84548693256\n",
      "-2.38493407375\n",
      "63861\n",
      "67530\n"
     ]
    }
   ],
   "source": [
    "print np.mean(data1)\n",
    "print np.mean(data2)\n",
    "print len(data1)\n",
    "print len(data2)"
   ]
  },
  {
   "cell_type": "code",
   "execution_count": 68,
   "metadata": {
    "collapsed": false
   },
   "outputs": [
    {
     "name": "stdout",
     "output_type": "stream",
     "text": [
      "-1.84548693256\n",
      "-2.38493407375\n",
      "63861\n",
      "67530\n"
     ]
    }
   ],
   "source": [
    "print np.mean(data1)\n",
    "print np.mean(data2)\n",
    "print len(data1)\n",
    "print len(data2)"
   ]
  },
  {
   "cell_type": "code",
   "execution_count": 65,
   "metadata": {
    "collapsed": false
   },
   "outputs": [
    {
     "name": "stdout",
     "output_type": "stream",
     "text": [
      "-2.17192891241\n"
     ]
    }
   ],
   "source": [
    "print np.mean(combined_dataAnalysis['Emotion Mode']['valence']['average'])"
   ]
  },
  {
   "cell_type": "code",
   "execution_count": null,
   "metadata": {
    "collapsed": true
   },
   "outputs": [],
   "source": []
  }
 ],
 "metadata": {
  "anaconda-cloud": {},
  "kernelspec": {
   "display_name": "Python 2",
   "language": "python",
   "name": "python2"
  },
  "language_info": {
   "codemirror_mode": {
    "name": "ipython",
    "version": 2
   },
   "file_extension": ".py",
   "mimetype": "text/x-python",
   "name": "python",
   "nbconvert_exporter": "python",
   "pygments_lexer": "ipython2",
   "version": "2.7.12"
  }
 },
 "nbformat": 4,
 "nbformat_minor": 1
}
